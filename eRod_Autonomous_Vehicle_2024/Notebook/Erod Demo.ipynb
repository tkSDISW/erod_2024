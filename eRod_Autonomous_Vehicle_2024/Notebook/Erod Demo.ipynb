{
 "cells": [
  {
   "cell_type": "code",
   "execution_count": 1,
   "id": "255c7c42-5cbf-41b9-ab81-9b6e1afab899",
   "metadata": {},
   "outputs": [
    {
     "name": "stderr",
     "output_type": "stream",
     "text": [
      "/tmp/ipykernel_76077/4272686172.py:9: DeprecationWarning: The 'jupyter_untrusted' argument is no longer needed and will be removed soon. Please remove it from your calls.\n",
      "  model = capellambse.MelodyModel(path_to_model, resources=resources, jupyter_untrusted=False)\n",
      "Cannot load PVMT extension: ValueError: Provided model does not have a PropertyValuePkg\n",
      "Property values are not available in this model\n"
     ]
    }
   ],
   "source": [
    "import capellambse\n",
    "\n",
    "from IPython.core.display import HTML\n",
    "\n",
    "resources = {\n",
    "    \"erod_2024\": \"erod_2024/eRod_Autonomous_Vehicle_2024\",\n",
    "}\n",
    "path_to_model = \"../eRod_Autonomous_Vehicle_2024.aird\"\n",
    "model = capellambse.MelodyModel(path_to_model, resources=resources, jupyter_untrusted=False)"
   ]
  },
  {
   "cell_type": "code",
   "execution_count": 3,
   "id": "26654317-b976-4d7a-9521-f7a3f04531fc",
   "metadata": {},
   "outputs": [
    {
     "name": "stdout",
     "output_type": "stream",
     "text": [
      "Right Steering Knuckle - Control_Arm_Mass : 1.9 Kg\n",
      "Right Steering Knuckle - Mass_kg Goal: 1.8 Max: 3.0 Min: 1.0\n"
     ]
    }
   ],
   "source": [
    "comp_actor = 0\n",
    "model_parameter = 1\n",
    "amesim_parameter = 3\n",
    "type_parameter = 2\n",
    "\n",
    "component_param_table =[\n",
    "    [\"Right Steering Knuckle\",\"Control_Arm_Mass\"],\n",
    "    [\"Right Steering Knuckle\",\"Mass_kg\",]\n",
    "]\n",
    "for row in component_param_table:\n",
    "    comp = model.search(\"PhysicalComponent\").by_name(row[comp_actor])\n",
    "    #print(row[model_parameter])\n",
    "    #print(comp.property_value_groups)\n",
    "    #print(comp.property_value_groups[row[model_parameter]])\n",
    "    if row[comp_actor] == \"Right Steering Knuckle\" and row[model_parameter] == \"Control_Arm_Mass\" :\n",
    "        print(row[comp_actor],\"-\",row[model_parameter],\":\",comp.property_value_groups[row[model_parameter]][\"Value\"],comp.property_value_groups[row[model_parameter]][\"Units\"])\n",
    "    if row[comp_actor] == \"Right Steering Knuckle\" and row[model_parameter] == \"Mass_kg\" :\n",
    "        #Applied property values have do not have Dict like functions so line below converts applied to owned property value to access. \n",
    "        #All Tc property values show up as applied\n",
    "        comp.property_value_groups = comp.applied_property_value_groups\n",
    "        print(row[comp_actor],\"-\",row[model_parameter],\"Goal:\",comp.property_value_groups[row[model_parameter]][\"Goal\"],\"Max:\",comp.property_value_groups[row[model_parameter]][\"Max\"],\"Min:\",comp.property_value_groups[row[model_parameter]][\"Min\"])\n",
    "        \n",
    "    \n"
   ]
  },
  {
   "cell_type": "code",
   "execution_count": null,
   "id": "26ca1a59-7cba-49f8-a43f-a23ccf82123f",
   "metadata": {},
   "outputs": [],
   "source": []
  }
 ],
 "metadata": {
  "kernelspec": {
   "display_name": "Python 3 (ipykernel)",
   "language": "python",
   "name": "python3"
  },
  "language_info": {
   "codemirror_mode": {
    "name": "ipython",
    "version": 3
   },
   "file_extension": ".py",
   "mimetype": "text/x-python",
   "name": "python",
   "nbconvert_exporter": "python",
   "pygments_lexer": "ipython3",
   "version": "3.11.7"
  }
 },
 "nbformat": 4,
 "nbformat_minor": 5
}
